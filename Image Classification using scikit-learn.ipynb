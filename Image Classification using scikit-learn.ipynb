{
 "cells": [
  {
   "cell_type": "markdown",
   "metadata": {},
   "source": [
    "# Image Classification using `sklearn.svm`"
   ]
  },
  {
   "cell_type": "code",
   "execution_count": 1,
   "metadata": {},
   "outputs": [],
   "source": [
    "from pathlib import Path\n",
    "# %matplotlib notebook\n",
    "import matplotlib.pyplot as plt\n",
    "import numpy as np\n",
    "from sklearn import svm, metrics\n",
    "from sklearn.utils import Bunch\n",
    "from sklearn.model_selection import GridSearchCV, train_test_split\n",
    "from sklearn.preprocessing import StandardScaler\n",
    "from sklearn.decomposition import PCA\n",
    "\n",
    "from skimage.io import imread, imshow\n",
    "from skimage.transform import resize\n",
    "from skimage.color import rgb2gray\n"
   ]
  },
  {
   "cell_type": "markdown",
   "metadata": {},
   "source": [
    "### Load images in structured directory like it's sklearn sample dataset"
   ]
  },
  {
   "cell_type": "code",
   "execution_count": 2,
   "metadata": {},
   "outputs": [],
   "source": [
    "def load_image_files(container_path, dimension=(64,64)):\n",
    "\n",
    "    image_dir = Path(container_path)\n",
    "    folders = [directory for directory in image_dir.iterdir() if directory.is_dir()]\n",
    "    categories = [fo.name for fo in folders]\n",
    "\n",
    "    descr = \"A Braille image classification dataset\"\n",
    "    images = []\n",
    "    flat_data = []\n",
    "    target = []\n",
    "    for i, direc in enumerate(folders):\n",
    "        for file in direc.iterdir():\n",
    "            img = imread(file)\n",
    "            imgray= rgb2gray(img)\n",
    "            img_resized = resize(imgray, dimension, anti_aliasing=True, mode='reflect')\n",
    "            flat_data.append(img_resized.flatten()) \n",
    "            images.append(img_resized)\n",
    "            target.append(i)\n",
    "    flat_data = np.array(flat_data)\n",
    "    target = np.array(target)\n",
    "    images = np.array(images)\n",
    "    \n",
    "\n",
    "    return Bunch(data=flat_data,\n",
    "                 target=target,\n",
    "                 target_names=categories,\n",
    "                 images=images,\n",
    "                 DESCR=descr)\n",
    "\n"
   ]
  },
  {
   "cell_type": "code",
   "execution_count": 3,
   "metadata": {
    "scrolled": true
   },
   "outputs": [
    {
     "name": "stdout",
     "output_type": "stream",
     "text": [
      "{'data': array([[0.76264553, 0.76132812, 0.76593903, ..., 0.76862745, 0.76862745,\n",
      "        0.76862745],\n",
      "       [0.99920726, 0.99906939, 0.99955193, ..., 1.        , 1.        ,\n",
      "        1.        ],\n",
      "       [0.98990119, 0.99095818, 0.98725873, ..., 1.        , 1.        ,\n",
      "        1.        ],\n",
      "       ...,\n",
      "       [0.2874349 , 0.28757276, 0.28709023, ..., 0.28627451, 0.28627451,\n",
      "        0.28627451],\n",
      "       [0.99528569, 0.99514782, 0.99563036, ..., 0.98815487, 0.99110371,\n",
      "        0.99026118],\n",
      "       [0.98141468, 0.97818244, 0.98949525, ..., 1.        , 1.        ,\n",
      "        1.        ]]), 'target': array([ 0,  0,  0, ..., 25, 25, 25]), 'target_names': ['A', 'B', 'C', 'D', 'E', 'F', 'G', 'H', 'I', 'J', 'K', 'L', 'M', 'N', 'O', 'P', 'Q', 'R', 'S', 'T', 'U', 'V', 'W', 'X', 'Y', 'Z'], 'images': array([[[0.76264553, 0.76132812, 0.76593903, ..., 0.76862745,\n",
      "         0.76862745, 0.76862745],\n",
      "        [0.76672028, 0.76380974, 0.77399663, ..., 0.76862745,\n",
      "         0.76862745, 0.76862745],\n",
      "        [0.75245864, 0.75512408, 0.74579504, ..., 0.76862745,\n",
      "         0.76862745, 0.76862745],\n",
      "        ...,\n",
      "        [0.76932062, 0.76863128, 0.77104396, ..., 0.76862745,\n",
      "         0.76862745, 0.76862745],\n",
      "        [0.7646561 , 0.7637523 , 0.76691559, ..., 0.76862745,\n",
      "         0.76862745, 0.76862745],\n",
      "        [0.76598882, 0.76514629, 0.76809513, ..., 0.76862745,\n",
      "         0.76862745, 0.76862745]],\n",
      "\n",
      "       [[0.99920726, 0.99906939, 0.99955193, ..., 0.99832644,\n",
      "         0.99955959, 0.99920726],\n",
      "        [0.99955959, 0.999483  , 0.99975107, ..., 0.99803539,\n",
      "         0.999483  , 0.99906939],\n",
      "        [0.99832644, 0.99803539, 0.99905407, ..., 0.99905407,\n",
      "         0.99975107, 0.99955193],\n",
      "        ...,\n",
      "        [1.        , 1.        , 1.        , ..., 1.        ,\n",
      "         1.        , 1.        ],\n",
      "        [1.        , 1.        , 1.        , ..., 1.        ,\n",
      "         1.        , 1.        ],\n",
      "        [1.        , 1.        , 1.        , ..., 1.        ,\n",
      "         1.        , 1.        ]],\n",
      "\n",
      "       [[0.98990119, 0.99095818, 0.98725873, ..., 1.        ,\n",
      "         1.        , 1.        ],\n",
      "        [0.99291896, 0.99415977, 0.98981694, ..., 1.        ,\n",
      "         1.        , 1.        ],\n",
      "        [0.98235677, 0.9829542 , 0.9808632 , ..., 1.        ,\n",
      "         1.        , 1.        ],\n",
      "        ...,\n",
      "        [0.90408624, 0.90477558, 0.9023629 , ..., 1.        ,\n",
      "         1.        , 1.        ],\n",
      "        [0.88644684, 0.88735064, 0.88418735, ..., 1.        ,\n",
      "         1.        , 1.        ],\n",
      "        [0.89148667, 0.8923292 , 0.88938036, ..., 1.        ,\n",
      "         1.        , 1.        ]],\n",
      "\n",
      "       ...,\n",
      "\n",
      "       [[0.2874349 , 0.28757276, 0.28709023, ..., 0.28627451,\n",
      "         0.28627451, 0.28627451],\n",
      "        [0.28610218, 0.28421798, 0.29081265, ..., 0.28627451,\n",
      "         0.28627451, 0.28627451],\n",
      "        [0.2907667 , 0.29595971, 0.27778416, ..., 0.28627451,\n",
      "         0.28627451, 0.28627451],\n",
      "        ...,\n",
      "        [0.2643076 , 0.26197917, 0.27012868, ..., 0.28627451,\n",
      "         0.28627451, 0.28627451],\n",
      "        [0.27760417, 0.27699142, 0.27913603, ..., 0.28627451,\n",
      "         0.28627451, 0.28627451],\n",
      "        [0.27380515, 0.27270221, 0.2765625 , ..., 0.28627451,\n",
      "         0.28627451, 0.28627451]],\n",
      "\n",
      "       [[0.99528569, 0.99514782, 0.99563036, ..., 1.        ,\n",
      "         1.        , 1.        ],\n",
      "        [0.99563802, 0.99556143, 0.9958295 , ..., 1.        ,\n",
      "         1.        , 1.        ],\n",
      "        [0.99440487, 0.99411382, 0.99513251, ..., 1.        ,\n",
      "         1.        , 1.        ],\n",
      "        ...,\n",
      "        [0.99505591, 0.99583716, 0.99310279, ..., 0.98888251,\n",
      "         0.99129519, 0.99060585],\n",
      "        [0.99210708, 0.99267387, 0.9906901 , ..., 0.98786382,\n",
      "         0.99102711, 0.99012331],\n",
      "        [0.9929496 , 0.99357767, 0.99137944, ..., 0.98815487,\n",
      "         0.99110371, 0.99026118]],\n",
      "\n",
      "       [[0.98141468, 0.97818244, 0.98949525, ..., 1.        ,\n",
      "         1.        , 1.        ],\n",
      "        [0.97965303, 0.97611443, 0.98849954, ..., 1.        ,\n",
      "         1.        , 1.        ],\n",
      "        [0.98581878, 0.98335248, 0.99198453, ..., 1.        ,\n",
      "         1.        , 1.        ],\n",
      "        ...,\n",
      "        [0.9689951 , 0.96360294, 0.98247549, ..., 1.        ,\n",
      "         1.        , 1.        ],\n",
      "        [0.9689951 , 0.96360294, 0.98247549, ..., 1.        ,\n",
      "         1.        , 1.        ],\n",
      "        [0.9689951 , 0.96360294, 0.98247549, ..., 1.        ,\n",
      "         1.        , 1.        ]]]), 'DESCR': 'A Braille image classification dataset'}\n"
     ]
    }
   ],
   "source": [
    "image_dataset = load_image_files(\"images/\") \n",
    "print(image_dataset)"
   ]
  },
  {
   "cell_type": "markdown",
   "metadata": {},
   "source": [
    "### Split data"
   ]
  },
  {
   "cell_type": "code",
   "execution_count": 31,
   "metadata": {},
   "outputs": [
    {
     "name": "stdout",
     "output_type": "stream",
     "text": [
      "['A', 'B', 'C', 'D', 'E', 'F', 'G', 'H', 'I', 'J', 'K', 'L', 'M', 'N', 'O', 'P', 'Q', 'R', 'S', 'T', 'U', 'V', 'W', 'X', 'Y', 'Z']\n",
      "[[0.96925934 0.96391314 0.98262485 ... 1.         1.         1.        ]\n",
      " [0.59576057 0.59764476 0.59105009 ... 0.6        0.6        0.6       ]\n",
      " [0.98951823 0.9886757  0.99162454 ... 1.         1.         1.        ]\n",
      " ...\n",
      " [0.848089   0.85242417 0.83725107 ... 0.85882353 0.85882353 0.85882353]\n",
      " [0.3040288  0.30899203 0.29162071 ... 0.30980392 0.30980392 0.30980392]\n",
      " [0.23148361 0.25125996 0.18204274 ... 1.         1.         1.        ]]\n"
     ]
    }
   ],
   "source": [
    "X_train, X_test, y_train, y_test = train_test_split(\n",
    "    image_dataset.data, image_dataset.target, test_size=0.2,random_state=109)\n",
    "\n",
    "print(image_dataset.target_names)\n",
    "print(X_train)\n"
   ]
  },
  {
   "cell_type": "code",
   "execution_count": 32,
   "metadata": {},
   "outputs": [
    {
     "data": {
      "image/png": "[encoded data removed]",
      "text/plain": [
       "<Figure size 432x288 with 1 Axes>"
      ]
     },
     "metadata": {
      "needs_background": "light"
     },
     "output_type": "display_data"
    }
   ],
   "source": [
    "a = imread(r\"C:\\Users\\HP\\Desktop\\SVM-Image-Classification-master\\SVM-Image-Classification-master\\images\\J\\j1.JPG3dim.jpg\")\n",
    "\n",
    "imshow(a, cmap=\"gray\")\n",
    "plt.show()"
   ]
  },
  {
   "cell_type": "code",
   "execution_count": null,
   "metadata": {},
   "outputs": [],
   "source": [
    "a= len(X_train)\n",
    "print(\"X train\",a)\n",
    "b= len(y_test)\n",
    "print(\"Y train\", b)"
   ]
  },
  {
   "cell_type": "markdown",
   "metadata": {},
   "source": [
    "### Train data with parameter optimization"
   ]
  },
  {
   "cell_type": "code",
   "execution_count": 26,
   "metadata": {},
   "outputs": [],
   "source": [
    "param_grid = [\n",
    "  {'C': [1,10,100,1000], 'kernel': ['linear']},\n",
    "  {'C': [1,10,100,1000], 'gamma': ['auto'], 'kernel': ['rbf']},\n",
    "  #{'C': [1,10,50,100,500,1000], 'kernel': ['poly']},\n",
    " ]\n",
    " \n",
    "svc = svm.SVC()\n",
    "clf = GridSearchCV(svc, param_grid)"
   ]
  },
  {
   "cell_type": "markdown",
   "metadata": {},
   "source": [
    "### Standardizing and Dimensionality reduction"
   ]
  },
  {
   "cell_type": "code",
   "execution_count": 27,
   "metadata": {},
   "outputs": [
    {
     "name": "stdout",
     "output_type": "stream",
     "text": [
      "[[ 0.53887712  0.51380448  0.59899512 ...  0.59143609  0.58881373\n",
      "   0.58957159]\n",
      " [-1.02485715 -1.02431293 -1.02295067 ... -1.17667376 -1.17770988\n",
      "  -1.17743219]\n",
      " [ 0.62369537  0.61779306  0.63627285 ...  0.59143609  0.58881373\n",
      "   0.58957159]\n",
      " ...\n",
      " [ 0.03157099  0.04561467 -0.00315907 ... -0.03260268 -0.03466519\n",
      "  -0.0340768 ]\n",
      " [-2.24625598 -2.23648905 -2.26322018 ... -2.45942011 -2.45930544\n",
      "  -2.45937611]\n",
      " [-2.54998228 -2.4789307  -2.71710421 ...  0.59143609  0.58881373\n",
      "   0.58957159]]\n",
      "[[ 0.55915974  0.56650639  0.53927145 ...  0.59143609  0.58881373\n",
      "   0.58957159]\n",
      " [-0.29885141 -0.27757655 -0.35036537 ... -0.39662529 -0.39836123\n",
      "  -0.3978717 ]\n",
      " [ 0.11342301  0.10655075  0.13000964 ...  0.03673496  0.03461025\n",
      "   0.03521746]\n",
      " ...\n",
      " [ 0.53518937  0.54651601  0.50556287 ...  0.59143609  0.58881373\n",
      "   0.58957159]\n",
      " [ 0.57998752  0.56301652  0.61999755 ...  0.59143609  0.58881373\n",
      "   0.58957159]\n",
      " [ 0.65834419  0.65608517  0.66182792 ...  0.59143609  0.58881373\n",
      "   0.58957159]]\n"
     ]
    }
   ],
   "source": [
    "sc = StandardScaler()\n",
    "X_train = sc.fit_transform(X_train)\n",
    "print(X_train)\n",
    "X_test = sc.transform(X_test)\n",
    "print(X_test)\n",
    "\n",
    "# Determine transformed features\n",
    "pca = PCA()\n",
    "X_train_pca = pca.fit_transform(X_train)\n",
    "X_test_pca = pca.transform(X_test)"
   ]
  },
  {
   "cell_type": "markdown",
   "metadata": {},
   "source": [
    "### Training the model"
   ]
  },
  {
   "cell_type": "code",
   "execution_count": 28,
   "metadata": {},
   "outputs": [
    {
     "data": {
      "text/plain": [
       "GridSearchCV(estimator=SVC(),\n",
       "             param_grid=[{'C': [1, 10, 100, 1000], 'kernel': ['linear']},\n",
       "                         {'C': [1, 10, 100, 1000], 'gamma': ['auto'],\n",
       "                          'kernel': ['rbf']}])"
      ]
     },
     "execution_count": 28,
     "metadata": {},
     "output_type": "execute_result"
    }
   ],
   "source": [
    "clf.fit(X_train_pca, y_train)"
   ]
  },
  {
   "cell_type": "markdown",
   "metadata": {},
   "source": [
    "### Predict"
   ]
  },
  {
   "cell_type": "code",
   "execution_count": 29,
   "metadata": {},
   "outputs": [
    {
     "name": "stdout",
     "output_type": "stream",
     "text": [
      "[ 2  7  8  8 15 25 25  8 12  0 21 14 19 15  9 17  9 22 21 23 23  0 14  6\n",
      "  3  5 24 25  8  2 12  9  2  8 19 24 23 18 17 10 25  6 16 24 19  7 23 13\n",
      " 20 25 14 11 12 16 24  6 23 24 12  5 17 20 20  1  0 24  5 21  2  2  3 11\n",
      " 11  5 25 10 13 19  4 10 11  0 19  5 15 25  4 10  9 19 15 25 15  6 14  6\n",
      " 19 11 15 25  6 15 19 18 15  2  8 22 24  8 21  1 21 18 24  3  2 19  9 20\n",
      "  1  3 18 19  7 22 20 25 14  3  5  6  9  0  4  0 15 23  6  5 12  8  4 20\n",
      " 24  9  5 17 17 11 12 16  8  7 10  6 16  2 15 15 17  2 14 14 20 20  0 21\n",
      "  9 12 15  0 12 19  3  2 25 18 23  3  9 22 17 12 11  0  6  2  4 13  5 25\n",
      " 23  3  5 18  6 25  3 17  1 17  9  9 12  3  5 18 11  8 12 20  0 11 14 21\n",
      " 11 10 14  6 10  9  2 12 25  2 18 19 23  7 10 10 25 18 22  3 15 23  8 24\n",
      "  9 18  8 10 18 23 15 20 11 13 13  5  5 18 14  1  5 12 21  9 19 13  8 24\n",
      "  2 11 10 23 13 23  7  4  6 12 18 17  1  5 15 21 20  5  5 16 25 22 14 21\n",
      " 14 23 15 20  8 21  6 15  3 12 18 19  8 24 25 15  7 16 17  9 11 13 21  9]\n",
      "[ 2  7  8  8 15 25 25  8 12  0 21 14 19  5  7 17  9 22 21 23 23  0 14  6\n",
      "  3  5 24 25  9  2 12  9  0  8 19 24 24 18 17 10 25  6 16 24 19  7 23 13\n",
      " 25 23 14 11 12 16 24  6 23 24 12  5 17 20 20  1  0 24  5 21  2  2  6 11\n",
      " 21  5 25 10 13 19  4 10 11  0 19  5  5 25  4 10  9 16 15 25 15  6 14 16\n",
      " 19 11  5 25 16  5 16 18 15  2  8 22 24  8 21  1 21 18 24  3  2 19  9 20\n",
      "  1  3 18 19  7 22 20 25 17  3  5  6  9  0  4 10  5 23  6  5 24  8  4 11\n",
      " 24  9  9 17 13 11 12 16  8  7 10  6 16  2 15 15 16  2 14 14 20 20  0  5\n",
      "  9 12  5  0 24 16  3  2 25 18 20  3  9 22 17 12 11  0  6  8  4 16  5 25\n",
      " 23 13 15 18  6 25  3 17  1 17  9  9 12  2 11 18 11  8 12 20  0 11 14 15\n",
      " 11 10 14  6  0  9  4 12 25  2 19 19 23  7 10 10 14  8 22  3 19 23  5 24\n",
      "  9 18  8 10 18 23 15 20 11 13 13  5  9  1 14  1  5 12 21  9 19 13  8 24\n",
      "  2 11 10 23 13 23  7  4  6 12 18 13  2  5 15 11 20  5  5 16 25 22 14 20\n",
      " 14 23 15 21  8 21  6 15  3 12 18 19  8 24 25  5  1  6 17  9 11 13 21  9]\n"
     ]
    }
   ],
   "source": [
    "print(y_test)\n",
    "y_pred = clf.predict(X_test_pca)\n",
    "print(y_pred)"
   ]
  },
  {
   "cell_type": "markdown",
   "metadata": {},
   "source": [
    "### Report"
   ]
  },
  {
   "cell_type": "code",
   "execution_count": 30,
   "metadata": {},
   "outputs": [
    {
     "name": "stdout",
     "output_type": "stream",
     "text": [
      "Accuracy: 0.8301282051282052\n",
      "Precision: 0.8488398131426979\n",
      "Recall: 0.8301282051282052\n",
      "Classification report for - \n",
      "GridSearchCV(estimator=SVC(),\n",
      "             param_grid=[{'C': [1, 10, 100, 1000], 'kernel': ['linear']},\n",
      "                         {'C': [1, 10, 100, 1000], 'gamma': ['auto'],\n",
      "                          'kernel': ['rbf']}]):\n",
      "              precision    recall  f1-score   support\n",
      "\n",
      "           0       0.82      0.90      0.86        10\n",
      "           1       0.71      0.83      0.77         6\n",
      "           2       0.85      0.79      0.81        14\n",
      "           3       1.00      0.75      0.86        12\n",
      "           4       0.86      1.00      0.92         6\n",
      "           5       0.59      0.76      0.67        17\n",
      "           6       0.86      0.86      0.86        14\n",
      "           7       0.86      0.86      0.86         7\n",
      "           8       0.87      0.87      0.87        15\n",
      "           9       0.83      0.94      0.88        16\n",
      "          10       0.91      0.91      0.91        11\n",
      "          11       0.80      0.92      0.86        13\n",
      "          12       1.00      0.87      0.93        15\n",
      "          13       0.70      0.88      0.78         8\n",
      "          14       0.92      0.92      0.92        12\n",
      "          15       0.83      0.56      0.67        18\n",
      "          16       0.42      0.83      0.56         6\n",
      "          17       0.89      0.73      0.80        11\n",
      "          18       1.00      0.79      0.88        14\n",
      "          19       0.85      0.79      0.81        14\n",
      "          20       0.82      0.75      0.78        12\n",
      "          21       0.80      0.67      0.73        12\n",
      "          22       1.00      1.00      1.00         6\n",
      "          23       0.92      0.86      0.89        14\n",
      "          24       0.80      1.00      0.89        12\n",
      "          25       0.94      0.88      0.91        17\n",
      "\n",
      "    accuracy                           0.83       312\n",
      "   macro avg       0.84      0.84      0.83       312\n",
      "weighted avg       0.85      0.83      0.83       312\n",
      "\n",
      "\n"
     ]
    }
   ],
   "source": [
    "print(\"Accuracy:\",metrics.accuracy_score(y_test, y_pred))\n",
    "\n",
    "# Model Precision: what percentage of positive tuples are labeled as such?\n",
    "print(\"Precision:\",metrics.precision_score(y_test, y_pred, average=\"weighted\"))\n",
    "\n",
    "# Model Recall: what percentage of positive tuples are labelled as such?\n",
    "print(\"Recall:\",metrics.recall_score(y_test, y_pred, average=\"weighted\"))\n",
    "\n",
    "print(\"Classification report for - \\n{}:\\n{}\\n\".format(\n",
    "    clf, metrics.classification_report(y_test, y_pred)))"
   ]
  },
  {
   "cell_type": "code",
   "execution_count": 10,
   "metadata": {},
   "outputs": [
    {
     "data": {
      "text/plain": [
       "<matplotlib.collections.PathCollection at 0x234fd4f9160>"
      ]
     },
     "execution_count": 10,
     "metadata": {},
     "output_type": "execute_result"
    },
    {
     "data": {
      "image/png": "[encoded data removed]",
      "text/plain": [
       "<Figure size 432x288 with 1 Axes>"
      ]
     },
     "metadata": {
      "needs_background": "light"
     },
     "output_type": "display_data"
    }
   ],
   "source": [
    "plt.scatter(y_test, y_pred)"
   ]
  },
  {
   "cell_type": "code",
   "execution_count": 11,
   "metadata": {},
   "outputs": [
    {
     "name": "stdout",
     "output_type": "stream",
     "text": [
      "     original  predicted\n",
      "0          21         25\n",
      "1          21         21\n",
      "2           2          2\n",
      "3           6          6\n",
      "4           7          7\n",
      "..        ...        ...\n",
      "307        21         25\n",
      "308        16          6\n",
      "309        14         14\n",
      "310        19         19\n",
      "311         6          6\n",
      "\n",
      "[312 rows x 2 columns]\n"
     ]
    }
   ],
   "source": [
    "import pandas as pd\n",
    "result = pd.DataFrame({'original' : y_test,'predicted' : y_pred})\n",
    "print(result)"
   ]
  },
  {
   "cell_type": "code",
   "execution_count": 12,
   "metadata": {},
   "outputs": [
    {
     "data": {
      "image/png": "[encoded data removed]",
      "text/plain": [
       "<Figure size 360x360 with 1 Axes>"
      ]
     },
     "metadata": {
      "needs_background": "light"
     },
     "output_type": "display_data"
    }
   ],
   "source": [
    "import seaborn as sns\n",
    "plt.figure(figsize=(5, 5))\n",
    "ax = sns.kdeplot(y_test, color=\"r\", label=\"Actual Value\")\n",
    "sns.kdeplot(y_pred, color=\"b\", label=\"Fitted Values\" , ax=ax)\n",
    "plt.title('Actual vs Fitted Values')\n",
    "plt.show()\n",
    "plt.close()"
   ]
  }
 ],
 "metadata": {
  "kernelspec": {
   "display_name": "Python 3.9.7 ('base')",
   "language": "python",
   "name": "python3"
  },
  "language_info": {
   "codemirror_mode": {
    "name": "ipython",
    "version": 3
   },
   "file_extension": ".py",
   "mimetype": "text/x-python",
   "name": "python",
   "nbconvert_exporter": "python",
   "pygments_lexer": "ipython3",
   "version": "3.9.7"
  },
  "vscode": {
   "interpreter": {
    "hash": "dc07d24e2f18896857f0b2a651fe84ba40ce7b297e58d8804a308c8039f752a6"
   }
  }
 },
 "nbformat": 4,
 "nbformat_minor": 2
}
